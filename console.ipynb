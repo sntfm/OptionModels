{
 "cells": [
  {
   "attachments": {},
   "cell_type": "markdown",
   "id": "f0b1dc56",
   "metadata": {},
   "source": [
    "### Imports"
   ]
  },
  {
   "cell_type": "code",
   "execution_count": 7,
   "id": "d78719ae",
   "metadata": {},
   "outputs": [],
   "source": [
    "from OptionModels import BlackScholes, GarmanKohlhagen, ImpliedVolatility"
   ]
  },
  {
   "attachments": {},
   "cell_type": "markdown",
   "id": "e942253a",
   "metadata": {},
   "source": [
    "### Black-Sholes"
   ]
  },
  {
   "cell_type": "code",
   "execution_count": 16,
   "id": "23b98da3",
   "metadata": {},
   "outputs": [
    {
     "name": "stdout",
     "output_type": "stream",
     "text": [
      "\n",
      "Reference:\n",
      "Spot:   90.5    Strike:    92.0\n",
      "Vol:    0.19    Tau:       0.2329\n",
      "R:      0.025         \n",
      "\n",
      "<Option>  \n",
      "\n",
      "Type:  CALL\n",
      "Value: 2.866\n",
      "\n",
      "<Greeks>\n",
      "\n",
      "Delta:      0.472\n",
      "Gamma:      0.048\n",
      "Vega:       0.174\n",
      "Theta:      -0.022\n",
      "Rho:        0.093\n",
      "\n"
     ]
    }
   ],
   "source": [
    "spot=90.5\n",
    "strike= 92.0\n",
    "vol= 0.19\n",
    "r= 0.025\n",
    "T= 85\n",
    "opt= 'call'\n",
    "\n",
    "bs= BlackScholes(S= spot, K= strike, V= vol, r= r, T= T, opt= opt)\n",
    "\n",
    "print(f'''\n",
    "Reference:\n",
    "Spot:   {bs.option.S}    Strike:    {bs.option.K}\n",
    "Vol:    {bs.option.V}    Tau:       {round(bs.option.tau,4)}\n",
    "R:      {bs.option.r}         \n",
    "\n",
    "<Option>  \n",
    "\n",
    "Type:  {bs.option.type.upper()}\n",
    "Value: {round(bs.option.value, 3)}\n",
    "\n",
    "<Greeks>\n",
    "\n",
    "Delta:      {round(bs.option.delta,3)}\n",
    "Gamma:      {round(bs.option.gamma,3)}\n",
    "Vega:       {round(bs.option.vega,3)}\n",
    "Theta:      {round(bs.option.theta,3)}\n",
    "Rho:        {round(bs.option.rho,3)}\n",
    "''')"
   ]
  },
  {
   "attachments": {},
   "cell_type": "markdown",
   "id": "1db15f47",
   "metadata": {},
   "source": [
    "### Garman-Kohlhagen"
   ]
  },
  {
   "cell_type": "code",
   "execution_count": 18,
   "id": "a860a223",
   "metadata": {},
   "outputs": [
    {
     "name": "stdout",
     "output_type": "stream",
     "text": [
      "\n",
      "Reference:\n",
      "Spot:   90.5       Strike:    92.0\n",
      "Vol:    0.19       Tau:       0.2329\n",
      "R_d:    0.0758      R_f:       0.0508      \n",
      "\n",
      "<Option>  \n",
      "\n",
      "Type:  CALL\n",
      "Value: 2.832\n",
      "\n",
      "<Greeks>\n",
      "\n",
      "Delta:      0.467\n",
      "Gamma:      0.047\n",
      "Vega:       0.172\n",
      "Theta:      -0.022\n",
      "Rho dmst:   0.092\n",
      "Rho frgn:   -0.098\n",
      "\n"
     ]
    }
   ],
   "source": [
    "spot=90.5\n",
    "strike= 92.0\n",
    "vol= 0.19\n",
    "rd= 0.0758\n",
    "rf= 0.0508\n",
    "T= 85\n",
    "opt= 'call'\n",
    "\n",
    "gk= GarmanKohlhagen(S= spot, K= strike, V= vol, rd= rd, rf= rf, T= T, opt= opt)\n",
    "\n",
    "print(f'''\n",
    "Reference:\n",
    "Spot:   {gk.option.S}       Strike:    {gk.option.K}\n",
    "Vol:    {gk.option.V}       Tau:       {round(gk.option.tau,4)}\n",
    "R_d:    {gk.option.rd}      R_f:       {gk.option.rf}      \n",
    "\n",
    "<Option>  \n",
    "\n",
    "Type:  {gk.option.type.upper()}\n",
    "Value: {round(gk.option.value, 3)}\n",
    "\n",
    "<Greeks>\n",
    "\n",
    "Delta:      {round(gk.option.delta,3)}\n",
    "Gamma:      {round(gk.option.gamma,3)}\n",
    "Vega:       {round(gk.option.vega,3)}\n",
    "Theta:      {round(gk.option.theta,3)}\n",
    "Rho dmst:   {round(gk.option.rho_d,3)}\n",
    "Rho frgn:   {round(gk.option.rho_f,3)}\n",
    "''')"
   ]
  }
 ],
 "metadata": {
  "kernelspec": {
   "display_name": "Python 3 (ipykernel)",
   "language": "python",
   "name": "python3"
  },
  "language_info": {
   "codemirror_mode": {
    "name": "ipython",
    "version": 3
   },
   "file_extension": ".py",
   "mimetype": "text/x-python",
   "name": "python",
   "nbconvert_exporter": "python",
   "pygments_lexer": "ipython3",
   "version": "3.9.6"
  }
 },
 "nbformat": 4,
 "nbformat_minor": 5
}
