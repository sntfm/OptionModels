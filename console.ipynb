{
 "cells": [
  {
   "attachments": {},
   "cell_type": "markdown",
   "id": "f0b1dc56",
   "metadata": {},
   "source": [
    "### Imports"
   ]
  },
  {
   "cell_type": "code",
   "execution_count": 5,
   "id": "d78719ae",
   "metadata": {},
   "outputs": [],
   "source": [
    "from OptionModels import BlackScholes, GarmanKohlhagen, ImpliedVolatility"
   ]
  },
  {
   "attachments": {},
   "cell_type": "markdown",
   "id": "e942253a",
   "metadata": {},
   "source": [
    "### Black-Sholes"
   ]
  },
  {
   "cell_type": "code",
   "execution_count": 6,
   "id": "23b98da3",
   "metadata": {},
   "outputs": [
    {
     "name": "stdout",
     "output_type": "stream",
     "text": [
      "\n",
      "<Option>\n",
      "\n",
      "Type:  CALL\n",
      "Value: 3.134\n",
      "\n",
      "<Greeks>\n",
      "\n",
      "Delta:  0.5\n",
      "Gamma:  0.048\n",
      "Vega:   0.174\n",
      "Theta:  -0.026\n",
      "Rho:    0.098\n",
      "\n"
     ]
    }
   ],
   "source": [
    "spot=90.5\n",
    "strike= 92.0\n",
    "vol= 0.19\n",
    "r= 0.053\n",
    "T= 85\n",
    "opt= 'call'\n",
    "\n",
    "gk= BlackScholes(S= spot, K= strike, V= vol, r= r, T= T, opt= opt)\n",
    "\n",
    "print(f'''\n",
    "<Option>\n",
    "\n",
    "Type:  {gk.option.type.upper()}\n",
    "Value: {round(gk.option.value, 3)}\n",
    "\n",
    "<Greeks>\n",
    "\n",
    "Delta:  {round(gk.option.delta,3)}\n",
    "Gamma:  {round(gk.option.gamma,3)}\n",
    "Vega:   {round(gk.option.vega,3)}\n",
    "Theta:  {round(gk.option.theta,3)}\n",
    "Rho:    {round(gk.option.rho,3)}\n",
    "''')"
   ]
  },
  {
   "attachments": {},
   "cell_type": "markdown",
   "id": "1db15f47",
   "metadata": {},
   "source": [
    "### Garman-Kohlhagen"
   ]
  },
  {
   "cell_type": "code",
   "execution_count": null,
   "id": "a860a223",
   "metadata": {},
   "outputs": [],
   "source": [
    "spot=90.5\n",
    "strike= 92.0\n",
    "vol= 0.19\n",
    "rd= 0.053\n",
    "rf= 0.025\n",
    "T= 85\n",
    "opt= 'call'\n",
    "\n",
    "gk= GarmanKohlhagen(S= spot, K= strike, V= vol, rd= rd, rf= rf, T= T, opt= opt)\n",
    "\n",
    "print(f'''\n",
    "<Option>\n",
    "\n",
    "Type:  {gk.option.type.upper()}\n",
    "Value: {round(gk.option.value, 3)}\n",
    "\n",
    "<Greeks>\n",
    "\n",
    "Delta:       {round(gk.option.delta,3)}\n",
    "Gamma:       {round(gk.option.gamma,3)}\n",
    "Vega:        {round(gk.option.vega,3)}\n",
    "Theta:       {round(gk.option.theta,3)}\n",
    "Rho Domestic:{round(gk.option.rho_d,3)}\n",
    "Rho Foreign: {round(gk.option.rho_f,3)}\n",
    "''')"
   ]
  }
 ],
 "metadata": {
  "kernelspec": {
   "display_name": "Python 3 (ipykernel)",
   "language": "python",
   "name": "python3"
  },
  "language_info": {
   "codemirror_mode": {
    "name": "ipython",
    "version": 3
   },
   "file_extension": ".py",
   "mimetype": "text/x-python",
   "name": "python",
   "nbconvert_exporter": "python",
   "pygments_lexer": "ipython3",
   "version": "3.9.6"
  }
 },
 "nbformat": 4,
 "nbformat_minor": 5
}
