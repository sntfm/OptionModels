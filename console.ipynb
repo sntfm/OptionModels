{
 "cells": [
  {
   "attachments": {},
   "cell_type": "markdown",
   "id": "f0b1dc56",
   "metadata": {},
   "source": [
    "### Imports"
   ]
  },
  {
   "cell_type": "code",
   "execution_count": 1,
   "id": "d78719ae",
   "metadata": {},
   "outputs": [
    {
     "name": "stdout",
     "output_type": "stream",
     "text": [
      "\n",
      "<Option>\n",
      " \n",
      "Type:  CALL\n",
      "Value: 3.134\n",
      "\n",
      "<Greeks>\n",
      "\n",
      "Delta:  0.5\n",
      "Gamma:  0.048\n",
      "Vega:   0.174\n",
      "Theta:  -0.026\n",
      "Rho:    0.098\n",
      "\n"
     ]
    }
   ],
   "source": [
    "from OptionModels import BlackScholes, GarmanKohlhagen, ImpliedVolatility"
   ]
  },
  {
   "attachments": {},
   "cell_type": "markdown",
   "id": "e942253a",
   "metadata": {},
   "source": [
    "### Black-Sholes"
   ]
  },
  {
   "cell_type": "code",
   "execution_count": 2,
   "id": "23b98da3",
   "metadata": {},
   "outputs": [
    {
     "name": "stdout",
     "output_type": "stream",
     "text": [
      "\n",
      "<Option>\n",
      "\n",
      "Type:  CALL\n",
      "Value: 3.134\n",
      "\n",
      "<Greeks>\n",
      "\n",
      "Delta:  0.5\n",
      "Gamma:  0.048\n",
      "Vega:   0.174\n",
      "Theta:  -0.026\n",
      "Rho:    0.098\n",
      "\n"
     ]
    }
   ],
   "source": [
    "spot=90.5\n",
    "strike= 92.0\n",
    "vol= 0.19\n",
    "r= 0.053\n",
    "T= 85\n",
    "opt= 'call'\n",
    "\n",
    "gk= BlackScholes(S= spot, K= strike, V= vol, r= r, T= T, opt= opt)\n",
    "\n",
    "print(f'''\n",
    "<Option>\n",
    "\n",
    "Type:  {gk.option.type.upper()}\n",
    "Value: {round(gk.option.value, 3)}\n",
    "\n",
    "<Greeks>\n",
    "\n",
    "Delta:  {round(gk.option.delta,3)}\n",
    "Gamma:  {round(gk.option.gamma,3)}\n",
    "Vega:   {round(gk.option.vega,3)}\n",
    "Theta:  {round(gk.option.theta,3)}\n",
    "Rho:    {round(gk.option.rho,3)}\n",
    "''')"
   ]
  },
  {
   "attachments": {},
   "cell_type": "markdown",
   "id": "1db15f47",
   "metadata": {},
   "source": [
    "### Garman-Kohlhagen"
   ]
  },
  {
   "cell_type": "code",
   "execution_count": 3,
   "id": "a860a223",
   "metadata": {},
   "outputs": [
    {
     "ename": "AttributeError",
     "evalue": "'OptionGK' object has no attribute 'r'",
     "output_type": "error",
     "traceback": [
      "\u001b[0;31m---------------------------------------------------------------------------\u001b[0m",
      "\u001b[0;31mAttributeError\u001b[0m                            Traceback (most recent call last)",
      "Cell \u001b[0;32mIn[3], line 9\u001b[0m\n\u001b[1;32m      6\u001b[0m T\u001b[39m=\u001b[39m \u001b[39m85\u001b[39m\n\u001b[1;32m      7\u001b[0m opt\u001b[39m=\u001b[39m \u001b[39m'\u001b[39m\u001b[39mcall\u001b[39m\u001b[39m'\u001b[39m\n\u001b[0;32m----> 9\u001b[0m gk\u001b[39m=\u001b[39m GarmanKohlhagen(S\u001b[39m=\u001b[39;49m spot, K\u001b[39m=\u001b[39;49m strike, V\u001b[39m=\u001b[39;49m vol, rd\u001b[39m=\u001b[39;49m rd, rf\u001b[39m=\u001b[39;49m rf, T\u001b[39m=\u001b[39;49m T, opt\u001b[39m=\u001b[39;49m opt)\n\u001b[1;32m     11\u001b[0m \u001b[39mprint\u001b[39m(\u001b[39mf\u001b[39m\u001b[39m'''\u001b[39m\n\u001b[1;32m     12\u001b[0m \u001b[39m<Option>\u001b[39m\n\u001b[1;32m     13\u001b[0m \n\u001b[0;32m   (...)\u001b[0m\n\u001b[1;32m     24\u001b[0m \u001b[39mRho Foreign: \u001b[39m\u001b[39m{\u001b[39;00m\u001b[39mround\u001b[39m(gk\u001b[39m.\u001b[39moption\u001b[39m.\u001b[39mrho_f,\u001b[39m3\u001b[39m)\u001b[39m}\u001b[39;00m\n\u001b[1;32m     25\u001b[0m \u001b[39m'''\u001b[39m)\n",
      "File \u001b[0;32m~/Documents/GitHub/Options_BS/OptionModels.py:110\u001b[0m, in \u001b[0;36mGarmanKohlhagen.__init__\u001b[0;34m(self, S, K, V, rd, rf, T, t, opt, value)\u001b[0m\n\u001b[1;32m    109\u001b[0m \u001b[39mdef\u001b[39;00m \u001b[39m__init__\u001b[39m(\u001b[39mself\u001b[39m, S\u001b[39m=\u001b[39m \u001b[39mNone\u001b[39;00m, K\u001b[39m=\u001b[39m \u001b[39mNone\u001b[39;00m, V\u001b[39m=\u001b[39m \u001b[39mNone\u001b[39;00m, rd\u001b[39m=\u001b[39m \u001b[39mNone\u001b[39;00m, rf\u001b[39m=\u001b[39m \u001b[39mNone\u001b[39;00m, T\u001b[39m=\u001b[39m \u001b[39mNone\u001b[39;00m, t\u001b[39m=\u001b[39m \u001b[39m0\u001b[39m, opt\u001b[39m=\u001b[39m \u001b[39m'\u001b[39m\u001b[39mcall\u001b[39m\u001b[39m'\u001b[39m, value\u001b[39m=\u001b[39m \u001b[39mNone\u001b[39;00m):\n\u001b[0;32m--> 110\u001b[0m     \u001b[39mself\u001b[39m\u001b[39m.\u001b[39moption\u001b[39m=\u001b[39m \u001b[39mself\u001b[39;49m\u001b[39m.\u001b[39;49mOptionGK(S\u001b[39m=\u001b[39;49m S, K\u001b[39m=\u001b[39;49m K, V\u001b[39m=\u001b[39;49m V, rd\u001b[39m=\u001b[39;49m rd, rf\u001b[39m=\u001b[39;49m rf, T\u001b[39m=\u001b[39;49m T, t\u001b[39m=\u001b[39;49m t,  opt\u001b[39m=\u001b[39;49m opt, value\u001b[39m=\u001b[39;49m value)\n\u001b[1;32m    111\u001b[0m     \u001b[39mself\u001b[39m\u001b[39m.\u001b[39mvalue(\u001b[39mself\u001b[39m\u001b[39m.\u001b[39moption)\n\u001b[1;32m    112\u001b[0m     \u001b[39mself\u001b[39m\u001b[39m.\u001b[39mdelta(\u001b[39mself\u001b[39m\u001b[39m.\u001b[39moption)\n",
      "File \u001b[0;32m~/Documents/GitHub/Options_BS/OptionModels.py:96\u001b[0m, in \u001b[0;36mGarmanKohlhagen.OptionGK.__init__\u001b[0;34m(self, S, K, V, rd, rf, T, t, opt, value)\u001b[0m\n\u001b[1;32m     94\u001b[0m \u001b[39mself\u001b[39m\u001b[39m.\u001b[39mT, \u001b[39mself\u001b[39m\u001b[39m.\u001b[39mt \u001b[39m=\u001b[39m T\u001b[39m/\u001b[39m\u001b[39m365\u001b[39m, t\u001b[39m/\u001b[39m\u001b[39m365\u001b[39m\n\u001b[1;32m     95\u001b[0m \u001b[39m# d1d2\u001b[39;00m\n\u001b[0;32m---> 96\u001b[0m \u001b[39mself\u001b[39m\u001b[39m.\u001b[39md1\u001b[39m=\u001b[39m (np\u001b[39m.\u001b[39mlog(\u001b[39mself\u001b[39m\u001b[39m.\u001b[39mS\u001b[39m/\u001b[39m\u001b[39mself\u001b[39m\u001b[39m.\u001b[39mK) \u001b[39m+\u001b[39m (\u001b[39mself\u001b[39;49m\u001b[39m.\u001b[39;49mr \u001b[39m+\u001b[39m (\u001b[39mself\u001b[39m\u001b[39m.\u001b[39mV\u001b[39m*\u001b[39m\u001b[39m*\u001b[39m\u001b[39m2\u001b[39m)\u001b[39m/\u001b[39m\u001b[39m2\u001b[39m)\u001b[39m*\u001b[39m(\u001b[39mself\u001b[39m\u001b[39m.\u001b[39mT \u001b[39m-\u001b[39m \u001b[39mself\u001b[39m\u001b[39m.\u001b[39mt))\\\n\u001b[1;32m     97\u001b[0m \u001b[39m/\u001b[39m(\u001b[39mself\u001b[39m\u001b[39m.\u001b[39mV\u001b[39m*\u001b[39mnp\u001b[39m.\u001b[39msqrt(\u001b[39mself\u001b[39m\u001b[39m.\u001b[39mT \u001b[39m-\u001b[39m \u001b[39mself\u001b[39m\u001b[39m.\u001b[39mt))\n\u001b[1;32m     99\u001b[0m \u001b[39mself\u001b[39m\u001b[39m.\u001b[39md2\u001b[39m=\u001b[39m \u001b[39mself\u001b[39m\u001b[39m.\u001b[39md1 \u001b[39m-\u001b[39m \u001b[39mself\u001b[39m\u001b[39m.\u001b[39mV\u001b[39m*\u001b[39mnp\u001b[39m.\u001b[39msqrt(\u001b[39mself\u001b[39m\u001b[39m.\u001b[39mT \u001b[39m-\u001b[39m \u001b[39mself\u001b[39m\u001b[39m.\u001b[39mt)\n\u001b[1;32m    100\u001b[0m \u001b[39m# value and greeks\u001b[39;00m\n",
      "\u001b[0;31mAttributeError\u001b[0m: 'OptionGK' object has no attribute 'r'"
     ]
    }
   ],
   "source": [
    "spot=90.5\n",
    "strike= 92.0\n",
    "vol= 0.19\n",
    "rd= 0.053\n",
    "rf= 0.025\n",
    "T= 85\n",
    "opt= 'call'\n",
    "\n",
    "gk= GarmanKohlhagen(S= spot, K= strike, V= vol, rd= rd, rf= rf, T= T, opt= opt)\n",
    "\n",
    "print(f'''\n",
    "<Option>\n",
    "\n",
    "Type:  {gk.option.type.upper()}\n",
    "Value: {round(gk.option.value, 3)}\n",
    "\n",
    "<Greeks>\n",
    "\n",
    "Delta:       {round(gk.option.delta,3)}\n",
    "Gamma:       {round(gk.option.gamma,3)}\n",
    "Vega:        {round(gk.option.vega,3)}\n",
    "Theta:       {round(gk.option.theta,3)}\n",
    "Rho Domestic:{round(gk.option.rho_d,3)}\n",
    "Rho Foreign: {round(gk.option.rho_f,3)}\n",
    "''')"
   ]
  }
 ],
 "metadata": {
  "kernelspec": {
   "display_name": "Python 3 (ipykernel)",
   "language": "python",
   "name": "python3"
  },
  "language_info": {
   "codemirror_mode": {
    "name": "ipython",
    "version": 3
   },
   "file_extension": ".py",
   "mimetype": "text/x-python",
   "name": "python",
   "nbconvert_exporter": "python",
   "pygments_lexer": "ipython3",
   "version": "3.9.6"
  }
 },
 "nbformat": 4,
 "nbformat_minor": 5
}
